{
 "cells": [
  {
   "cell_type": "code",
   "execution_count": 1,
   "id": "6c417d68",
   "metadata": {
    "_cell_guid": "b1076dfc-b9ad-4769-8c92-a6c4dae69d19",
    "_uuid": "8f2839f25d086af736a60e9eeb907d3b93b6e0e5",
    "execution": {
     "iopub.execute_input": "2023-12-12T16:19:02.530073Z",
     "iopub.status.busy": "2023-12-12T16:19:02.529214Z",
     "iopub.status.idle": "2023-12-12T16:19:15.288136Z",
     "shell.execute_reply": "2023-12-12T16:19:15.287294Z"
    },
    "papermill": {
     "duration": 12.767712,
     "end_time": "2023-12-12T16:19:15.290703",
     "exception": false,
     "start_time": "2023-12-12T16:19:02.522991",
     "status": "completed"
    },
    "tags": []
   },
   "outputs": [
    {
     "name": "stderr",
     "output_type": "stream",
     "text": [
      "/opt/conda/lib/python3.10/site-packages/scipy/__init__.py:146: UserWarning: A NumPy version >=1.16.5 and <1.23.0 is required for this version of SciPy (detected version 1.24.3\n",
      "  warnings.warn(f\"A NumPy version >={np_minversion} and <{np_maxversion}\"\n"
     ]
    }
   ],
   "source": [
    "import tensorflow\n",
    "from tensorflow import keras\n",
    "from keras import Sequential\n",
    "from keras.layers import Dense,Flatten\n",
    "from keras.applications.vgg16 import VGG16"
   ]
  },
  {
   "cell_type": "code",
   "execution_count": 2,
   "id": "c5d7db88",
   "metadata": {
    "execution": {
     "iopub.execute_input": "2023-12-12T16:19:15.301706Z",
     "iopub.status.busy": "2023-12-12T16:19:15.300343Z",
     "iopub.status.idle": "2023-12-12T16:19:21.925820Z",
     "shell.execute_reply": "2023-12-12T16:19:21.925013Z"
    },
    "papermill": {
     "duration": 6.63325,
     "end_time": "2023-12-12T16:19:21.928309",
     "exception": false,
     "start_time": "2023-12-12T16:19:15.295059",
     "status": "completed"
    },
    "tags": []
   },
   "outputs": [
    {
     "name": "stdout",
     "output_type": "stream",
     "text": [
      "Downloading data from https://storage.googleapis.com/tensorflow/keras-applications/vgg16/vgg16_weights_tf_dim_ordering_tf_kernels_notop.h5\n",
      "58889256/58889256 [==============================] - 3s 0us/step\n"
     ]
    }
   ],
   "source": [
    "conv_base = VGG16(\n",
    "    weights='imagenet',\n",
    "    include_top = False,\n",
    "    input_shape=(150,150,3)\n",
    ")"
   ]
  },
  {
   "cell_type": "code",
   "execution_count": 3,
   "id": "ebd2d1bf",
   "metadata": {
    "execution": {
     "iopub.execute_input": "2023-12-12T16:19:21.946713Z",
     "iopub.status.busy": "2023-12-12T16:19:21.946353Z",
     "iopub.status.idle": "2023-12-12T16:19:21.993484Z",
     "shell.execute_reply": "2023-12-12T16:19:21.992481Z"
    },
    "papermill": {
     "duration": 0.069972,
     "end_time": "2023-12-12T16:19:22.006863",
     "exception": false,
     "start_time": "2023-12-12T16:19:21.936891",
     "status": "completed"
    },
    "tags": []
   },
   "outputs": [
    {
     "name": "stdout",
     "output_type": "stream",
     "text": [
      "Model: \"vgg16\"\n",
      "_________________________________________________________________\n",
      " Layer (type)                Output Shape              Param #   \n",
      "=================================================================\n",
      " input_1 (InputLayer)        [(None, 150, 150, 3)]     0         \n",
      "                                                                 \n",
      " block1_conv1 (Conv2D)       (None, 150, 150, 64)      1792      \n",
      "                                                                 \n",
      " block1_conv2 (Conv2D)       (None, 150, 150, 64)      36928     \n",
      "                                                                 \n",
      " block1_pool (MaxPooling2D)  (None, 75, 75, 64)        0         \n",
      "                                                                 \n",
      " block2_conv1 (Conv2D)       (None, 75, 75, 128)       73856     \n",
      "                                                                 \n",
      " block2_conv2 (Conv2D)       (None, 75, 75, 128)       147584    \n",
      "                                                                 \n",
      " block2_pool (MaxPooling2D)  (None, 37, 37, 128)       0         \n",
      "                                                                 \n",
      " block3_conv1 (Conv2D)       (None, 37, 37, 256)       295168    \n",
      "                                                                 \n",
      " block3_conv2 (Conv2D)       (None, 37, 37, 256)       590080    \n",
      "                                                                 \n",
      " block3_conv3 (Conv2D)       (None, 37, 37, 256)       590080    \n",
      "                                                                 \n",
      " block3_pool (MaxPooling2D)  (None, 18, 18, 256)       0         \n",
      "                                                                 \n",
      " block4_conv1 (Conv2D)       (None, 18, 18, 512)       1180160   \n",
      "                                                                 \n",
      " block4_conv2 (Conv2D)       (None, 18, 18, 512)       2359808   \n",
      "                                                                 \n",
      " block4_conv3 (Conv2D)       (None, 18, 18, 512)       2359808   \n",
      "                                                                 \n",
      " block4_pool (MaxPooling2D)  (None, 9, 9, 512)         0         \n",
      "                                                                 \n",
      " block5_conv1 (Conv2D)       (None, 9, 9, 512)         2359808   \n",
      "                                                                 \n",
      " block5_conv2 (Conv2D)       (None, 9, 9, 512)         2359808   \n",
      "                                                                 \n",
      " block5_conv3 (Conv2D)       (None, 9, 9, 512)         2359808   \n",
      "                                                                 \n",
      " block5_pool (MaxPooling2D)  (None, 4, 4, 512)         0         \n",
      "                                                                 \n",
      "=================================================================\n",
      "Total params: 14714688 (56.13 MB)\n",
      "Trainable params: 14714688 (56.13 MB)\n",
      "Non-trainable params: 0 (0.00 Byte)\n",
      "_________________________________________________________________\n"
     ]
    }
   ],
   "source": [
    "conv_base.summary()"
   ]
  },
  {
   "cell_type": "code",
   "execution_count": 4,
   "id": "aee466b6",
   "metadata": {
    "execution": {
     "iopub.execute_input": "2023-12-12T16:19:22.033005Z",
     "iopub.status.busy": "2023-12-12T16:19:22.032630Z",
     "iopub.status.idle": "2023-12-12T16:19:22.142181Z",
     "shell.execute_reply": "2023-12-12T16:19:22.141374Z"
    },
    "papermill": {
     "duration": 0.125279,
     "end_time": "2023-12-12T16:19:22.144486",
     "exception": false,
     "start_time": "2023-12-12T16:19:22.019207",
     "status": "completed"
    },
    "tags": []
   },
   "outputs": [],
   "source": [
    "model = Sequential()\n",
    "\n",
    "model.add(conv_base)\n",
    "model.add(Flatten())\n",
    "model.add(Dense(256,activation='relu'))\n",
    "model.add(Dense(1,activation='sigmoid'))"
   ]
  },
  {
   "cell_type": "code",
   "execution_count": 5,
   "id": "d3a3f253",
   "metadata": {
    "execution": {
     "iopub.execute_input": "2023-12-12T16:19:22.171177Z",
     "iopub.status.busy": "2023-12-12T16:19:22.170527Z",
     "iopub.status.idle": "2023-12-12T16:19:22.175851Z",
     "shell.execute_reply": "2023-12-12T16:19:22.174853Z"
    },
    "papermill": {
     "duration": 0.020986,
     "end_time": "2023-12-12T16:19:22.177940",
     "exception": false,
     "start_time": "2023-12-12T16:19:22.156954",
     "status": "completed"
    },
    "tags": []
   },
   "outputs": [],
   "source": [
    "conv_base.trainable = False"
   ]
  },
  {
   "cell_type": "code",
   "execution_count": 6,
   "id": "c6acaeba",
   "metadata": {
    "execution": {
     "iopub.execute_input": "2023-12-12T16:19:22.203907Z",
     "iopub.status.busy": "2023-12-12T16:19:22.203529Z",
     "iopub.status.idle": "2023-12-12T16:19:22.208008Z",
     "shell.execute_reply": "2023-12-12T16:19:22.207117Z"
    },
    "papermill": {
     "duration": 0.019441,
     "end_time": "2023-12-12T16:19:22.210081",
     "exception": false,
     "start_time": "2023-12-12T16:19:22.190640",
     "status": "completed"
    },
    "tags": []
   },
   "outputs": [],
   "source": [
    "from keras.preprocessing.image import ImageDataGenerator, array_to_img, img_to_array, load_img"
   ]
  },
  {
   "cell_type": "code",
   "execution_count": 7,
   "id": "6b096a44",
   "metadata": {
    "execution": {
     "iopub.execute_input": "2023-12-12T16:19:22.235580Z",
     "iopub.status.busy": "2023-12-12T16:19:22.234913Z",
     "iopub.status.idle": "2023-12-12T16:19:31.818176Z",
     "shell.execute_reply": "2023-12-12T16:19:31.817339Z"
    },
    "papermill": {
     "duration": 9.598554,
     "end_time": "2023-12-12T16:19:31.820592",
     "exception": false,
     "start_time": "2023-12-12T16:19:22.222038",
     "status": "completed"
    },
    "tags": []
   },
   "outputs": [
    {
     "name": "stdout",
     "output_type": "stream",
     "text": [
      "Found 20000 images belonging to 2 classes.\n",
      "Found 5000 images belonging to 2 classes.\n"
     ]
    }
   ],
   "source": [
    "batch_size = 32\n",
    "\n",
    "train_datagen = ImageDataGenerator(\n",
    "        rescale=1./255,\n",
    "        shear_range=0.2,\n",
    "        zoom_range=0.2,\n",
    "        horizontal_flip=True)\n",
    "\n",
    "test_datagen = ImageDataGenerator(rescale=1./255)\n",
    "\n",
    "train_generator = train_datagen.flow_from_directory(\n",
    "        '/kaggle/input/dogsvscats/train',\n",
    "        target_size=(150, 150),\n",
    "        batch_size=batch_size,\n",
    "        class_mode='binary') \n",
    "\n",
    "validation_generator = test_datagen.flow_from_directory(\n",
    "        '/kaggle/input/dogsvscats/test',\n",
    "        target_size=(150, 150),\n",
    "        batch_size=batch_size,\n",
    "        class_mode='binary')"
   ]
  },
  {
   "cell_type": "code",
   "execution_count": 8,
   "id": "5cf83262",
   "metadata": {
    "execution": {
     "iopub.execute_input": "2023-12-12T16:19:31.850110Z",
     "iopub.status.busy": "2023-12-12T16:19:31.849204Z",
     "iopub.status.idle": "2023-12-12T16:19:31.867585Z",
     "shell.execute_reply": "2023-12-12T16:19:31.866648Z"
    },
    "papermill": {
     "duration": 0.035678,
     "end_time": "2023-12-12T16:19:31.869978",
     "exception": false,
     "start_time": "2023-12-12T16:19:31.834300",
     "status": "completed"
    },
    "tags": []
   },
   "outputs": [],
   "source": [
    "model.compile(optimizer='adam',loss='binary_crossentropy',metrics=['accuracy'])"
   ]
  },
  {
   "cell_type": "code",
   "execution_count": 9,
   "id": "34e4dcd8",
   "metadata": {
    "execution": {
     "iopub.execute_input": "2023-12-12T16:19:31.897122Z",
     "iopub.status.busy": "2023-12-12T16:19:31.896438Z",
     "iopub.status.idle": "2023-12-12T16:43:48.224195Z",
     "shell.execute_reply": "2023-12-12T16:43:48.223229Z"
    },
    "papermill": {
     "duration": 1456.343482,
     "end_time": "2023-12-12T16:43:48.226350",
     "exception": false,
     "start_time": "2023-12-12T16:19:31.882868",
     "status": "completed"
    },
    "tags": []
   },
   "outputs": [
    {
     "name": "stderr",
     "output_type": "stream",
     "text": [
      "/tmp/ipykernel_27/4146946750.py:1: UserWarning: `Model.fit_generator` is deprecated and will be removed in a future version. Please use `Model.fit`, which supports generators.\n",
      "  history = model.fit_generator(\n"
     ]
    },
    {
     "name": "stdout",
     "output_type": "stream",
     "text": [
      "Epoch 1/10\n",
      "625/625 [==============================] - 208s 320ms/step - loss: 0.3341 - accuracy: 0.8552 - val_loss: 0.2834 - val_accuracy: 0.8822\n",
      "Epoch 2/10\n",
      "625/625 [==============================] - 143s 229ms/step - loss: 0.2654 - accuracy: 0.8838 - val_loss: 0.2494 - val_accuracy: 0.8914\n",
      "Epoch 3/10\n",
      "625/625 [==============================] - 140s 223ms/step - loss: 0.2500 - accuracy: 0.8958 - val_loss: 0.3043 - val_accuracy: 0.8700\n",
      "Epoch 4/10\n",
      "625/625 [==============================] - 139s 223ms/step - loss: 0.2337 - accuracy: 0.8991 - val_loss: 0.2322 - val_accuracy: 0.9046\n",
      "Epoch 5/10\n",
      "625/625 [==============================] - 139s 222ms/step - loss: 0.2178 - accuracy: 0.9046 - val_loss: 0.2364 - val_accuracy: 0.9056\n",
      "Epoch 6/10\n",
      "625/625 [==============================] - 137s 219ms/step - loss: 0.2094 - accuracy: 0.9107 - val_loss: 0.2527 - val_accuracy: 0.8956\n",
      "Epoch 7/10\n",
      "625/625 [==============================] - 137s 220ms/step - loss: 0.1968 - accuracy: 0.9164 - val_loss: 0.2216 - val_accuracy: 0.9034\n",
      "Epoch 8/10\n",
      "625/625 [==============================] - 137s 219ms/step - loss: 0.1813 - accuracy: 0.9237 - val_loss: 0.2356 - val_accuracy: 0.9016\n",
      "Epoch 9/10\n",
      "625/625 [==============================] - 138s 220ms/step - loss: 0.1729 - accuracy: 0.9273 - val_loss: 0.2325 - val_accuracy: 0.9070\n",
      "Epoch 10/10\n",
      "625/625 [==============================] - 138s 221ms/step - loss: 0.1613 - accuracy: 0.9316 - val_loss: 0.2618 - val_accuracy: 0.9024\n"
     ]
    }
   ],
   "source": [
    "history = model.fit_generator(\n",
    "        train_generator,\n",
    "        epochs=10,\n",
    "        validation_data=validation_generator)"
   ]
  },
  {
   "cell_type": "code",
   "execution_count": 10,
   "id": "07b09440",
   "metadata": {
    "execution": {
     "iopub.execute_input": "2023-12-12T16:43:49.249640Z",
     "iopub.status.busy": "2023-12-12T16:43:49.249280Z",
     "iopub.status.idle": "2023-12-12T16:43:49.523087Z",
     "shell.execute_reply": "2023-12-12T16:43:49.522191Z"
    },
    "papermill": {
     "duration": 0.792317,
     "end_time": "2023-12-12T16:43:49.525287",
     "exception": false,
     "start_time": "2023-12-12T16:43:48.732970",
     "status": "completed"
    },
    "tags": []
   },
   "outputs": [
    {
     "data": {
      "image/png": "[encoded data removed]",
      "text/plain": [
       "<Figure size 640x480 with 1 Axes>"
      ]
     },
     "metadata": {},
     "output_type": "display_data"
    }
   ],
   "source": [
    "import matplotlib.pyplot as plt\n",
    "\n",
    "plt.plot(history.history['accuracy'],color='red',label='train')\n",
    "plt.plot(history.history['val_accuracy'],color='blue',label='validation')\n",
    "plt.legend()\n",
    "plt.show()"
   ]
  },
  {
   "cell_type": "code",
   "execution_count": 11,
   "id": "232da39c",
   "metadata": {
    "execution": {
     "iopub.execute_input": "2023-12-12T16:43:50.553389Z",
     "iopub.status.busy": "2023-12-12T16:43:50.552997Z",
     "iopub.status.idle": "2023-12-12T16:43:50.743433Z",
     "shell.execute_reply": "2023-12-12T16:43:50.742512Z"
    },
    "papermill": {
     "duration": 0.710418,
     "end_time": "2023-12-12T16:43:50.745747",
     "exception": false,
     "start_time": "2023-12-12T16:43:50.035329",
     "status": "completed"
    },
    "tags": []
   },
   "outputs": [
    {
     "data": {
      "image/png": "[encoded data removed]",
      "text/plain": [
       "<Figure size 640x480 with 1 Axes>"
      ]
     },
     "metadata": {},
     "output_type": "display_data"
    }
   ],
   "source": [
    "plt.plot(history.history['loss'],color='red',label='train')\n",
    "plt.plot(history.history['val_loss'],color='blue',label='validation')\n",
    "plt.legend()\n",
    "plt.show()"
   ]
  }
 ],
 "metadata": {
  "kaggle": {
   "accelerator": "gpu",
   "dataSources": [
    {
     "datasetId": 84866,
     "sourceId": 196345,
     "sourceType": "datasetVersion"
    }
   ],
   "dockerImageVersionId": 30588,
   "isGpuEnabled": true,
   "isInternetEnabled": true,
   "language": "python",
   "sourceType": "notebook"
  },
  "kernelspec": {
   "display_name": "Python 3",
   "language": "python",
   "name": "python3"
  },
  "language_info": {
   "codemirror_mode": {
    "name": "ipython",
    "version": 3
   },
   "file_extension": ".py",
   "mimetype": "text/x-python",
   "name": "python",
   "nbconvert_exporter": "python",
   "pygments_lexer": "ipython3",
   "version": "3.10.12"
  },
  "papermill": {
   "default_parameters": {},
   "duration": 1495.421343,
   "end_time": "2023-12-12T16:43:54.406433",
   "environment_variables": {},
   "exception": null,
   "input_path": "__notebook__.ipynb",
   "output_path": "__notebook__.ipynb",
   "parameters": {},
   "start_time": "2023-12-12T16:18:58.985090",
   "version": "2.4.0"
  }
 },
 "nbformat": 4,
 "nbformat_minor": 5
}
